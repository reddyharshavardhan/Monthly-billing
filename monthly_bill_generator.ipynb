{
 "cells": [
  {
   "cell_type": "code",
   "execution_count": 1,
   "id": "1b0d3f23",
   "metadata": {},
   "outputs": [],
   "source": [
    "import json\n",
    "from collections import defaultdict\n",
    "from datetime import datetime, timedelta"
   ]
  },
  {
   "cell_type": "code",
   "execution_count": 2,
   "id": "2a6b34b6",
   "metadata": {},
   "outputs": [],
   "source": [
    "with open(\"input_items.json\", \"r\") as f:\n",
    "    data = json.load(f)\n",
    "item_list = data[\"items\"]"
   ]
  },
  {
   "cell_type": "code",
   "execution_count": 3,
   "id": "24b443ef",
   "metadata": {},
   "outputs": [],
   "source": [
    "def generate_billing_report(item_list, month_year):\n",
    "    start_date = datetime.strptime(month_year + \"-01\", \"%Y-%m-%d\")\n",
    "    end_date = datetime(start_date.year, start_date.month + 1, 1) - timedelta(days=1)\n",
    "\n",
    "    total_revenue = 0.0\n",
    "    line_items = []\n",
    "    grouped_data = defaultdict(lambda: {\"total_qty\": 0, \"total_amount\": 0.0, \"billing_period\": None})\n",
    "\n",
    "    for record in item_list:\n",
    "        record_start_date = datetime.strptime(record[\"start_date\"], \"%Y-%m-%d\")\n",
    "        record_stop_date = datetime.strptime(record[\"stop_date\"], \"%Y-%m-%d\")\n",
    "\n",
    "        if (record_start_date <= end_date) and (record_stop_date >= start_date):\n",
    "            item_code = record[\"item_code\"]\n",
    "            rate = float(record[\"rate\"])\n",
    "            qty = int(record[\"qty\"])\n",
    "            amount = float(record[\"amount\"])\n",
    "\n",
    "            grouped_data[item_code][\"total_qty\"] += qty\n",
    "            grouped_data[item_code][\"total_amount\"] += amount\n",
    "\n",
    "            if grouped_data[item_code][\"billing_period\"] is None:\n",
    "                grouped_data[item_code][\"billing_period\"] = f\"{start_date.strftime('%Y-%m-%d')} to {end_date.strftime('%Y-%m-%d')}\"\n",
    "\n",
    "    for item_code, values in grouped_data.items():\n",
    "        line_items.append({\n",
    "            \"item_code\": item_code,\n",
    "            \"rate\": rate,\n",
    "            \"qty\": values[\"total_qty\"],\n",
    "            \"amount\": values[\"total_amount\"],\n",
    "            \"billing_period\": values[\"billing_period\"]\n",
    "        })\n",
    "\n",
    "    total_revenue = sum(item[\"amount\"] for item in line_items)\n",
    "\n",
    "    billing_report = {\n",
    "        \"line_items\": line_items,\n",
    "        \"total_revenue\": total_revenue\n",
    "    }\n",
    "\n",
    "    return billing_report\n"
   ]
  },
  {
   "cell_type": "code",
   "execution_count": 4,
   "id": "6fda6bad",
   "metadata": {},
   "outputs": [
    {
     "name": "stdout",
     "output_type": "stream",
     "text": [
      "{'line_items': [{'amount': 40800.0,\n",
      "                 'billing_period': '2024-11-01 to 2024-11-30',\n",
      "                 'item_code': 'Executive Desk (4*2)',\n",
      "                 'qty': 38,\n",
      "                 'rate': 7000.0},\n",
      "                {'amount': 40600.0,\n",
      "                 'billing_period': '2024-11-01 to 2024-11-30',\n",
      "                 'item_code': 'Manager Cabin',\n",
      "                 'qty': 8,\n",
      "                 'rate': 7000.0},\n",
      "                {'amount': 15000.0,\n",
      "                 'billing_period': '2024-11-01 to 2024-11-30',\n",
      "                 'item_code': 'Parking (2S)',\n",
      "                 'qty': 25,\n",
      "                 'rate': 7000.0},\n",
      "                {'amount': 20000.0,\n",
      "                 'billing_period': '2024-11-01 to 2024-11-30',\n",
      "                 'item_code': 'Conference Table',\n",
      "                 'qty': 1,\n",
      "                 'rate': 7000.0},\n",
      "                {'amount': 21000.0,\n",
      "                 'billing_period': '2024-11-01 to 2024-11-30',\n",
      "                 'item_code': 'Reception Desk',\n",
      "                 'qty': 3,\n",
      "                 'rate': 7000.0}],\n",
      " 'total_revenue': 137400.0}\n",
      " Billing report saved to 'billing_report_november_2024.json'\n"
     ]
    }
   ],
   "source": [
    "month_year = \"2024-11\"\n",
    "bill = generate_billing_report(item_list, month_year)\n",
    "\n",
    "from pprint import pprint\n",
    "pprint(bill)\n",
    "\n",
    "# Save to file\n",
    "with open(\"billing_report_november_2024.json\", \"w\") as f:\n",
    "    json.dump(bill, f, indent=4)\n",
    "\n",
    "print(\" Billing report saved to 'billing_report_november_2024.json'\")\n"
   ]
  },
  {
   "cell_type": "code",
   "execution_count": null,
   "id": "88168974",
   "metadata": {},
   "outputs": [],
   "source": []
  }
 ],
 "metadata": {
  "kernelspec": {
   "display_name": "Python 3 (ipykernel)",
   "language": "python",
   "name": "python3"
  },
  "language_info": {
   "codemirror_mode": {
    "name": "ipython",
    "version": 3
   },
   "file_extension": ".py",
   "mimetype": "text/x-python",
   "name": "python",
   "nbconvert_exporter": "python",
   "pygments_lexer": "ipython3",
   "version": "3.9.12"
  }
 },
 "nbformat": 4,
 "nbformat_minor": 5
}
